{
 "cells": [
  {
   "cell_type": "code",
   "execution_count": 1,
   "id": "initial_id",
   "metadata": {
    "ExecuteTime": {
     "end_time": "2025-09-12T15:38:37.957634Z",
     "start_time": "2025-09-12T15:38:35.134749Z"
    },
    "collapsed": true
   },
   "outputs": [],
   "source": [
    "from pathlib import Path\n",
    "import pandas as pd\n",
    "\n",
    "# aktuelles Arbeitsverzeichnis vom Notebook\n",
    "ROOT = Path.cwd().parent   # von notebooks/ nach project/\n",
    "\n",
    "# Datenpfad zusammensetzen\n",
    "DATA_DIR = ROOT / \"data\" / \"202507-divvy-tripdata\"\n",
    "csv_file = DATA_DIR / \"202507-divvy-tripdata.csv\"\n",
    "\n",
    "df = pd.read_csv(csv_file)"
   ]
  },
  {
   "cell_type": "code",
   "execution_count": 2,
   "id": "594b75fba17b03e",
   "metadata": {
    "ExecuteTime": {
     "end_time": "2025-09-12T15:38:46.371066Z",
     "start_time": "2025-09-12T15:38:46.342686Z"
    }
   },
   "outputs": [
    {
     "data": {
      "text/html": [
       "<div>\n",
       "<style scoped>\n",
       "    .dataframe tbody tr th:only-of-type {\n",
       "        vertical-align: middle;\n",
       "    }\n",
       "\n",
       "    .dataframe tbody tr th {\n",
       "        vertical-align: top;\n",
       "    }\n",
       "\n",
       "    .dataframe thead th {\n",
       "        text-align: right;\n",
       "    }\n",
       "</style>\n",
       "<table border=\"1\" class=\"dataframe\">\n",
       "  <thead>\n",
       "    <tr style=\"text-align: right;\">\n",
       "      <th></th>\n",
       "      <th>ride_id</th>\n",
       "      <th>rideable_type</th>\n",
       "      <th>started_at</th>\n",
       "      <th>ended_at</th>\n",
       "      <th>start_station_name</th>\n",
       "      <th>start_station_id</th>\n",
       "      <th>end_station_name</th>\n",
       "      <th>end_station_id</th>\n",
       "      <th>start_lat</th>\n",
       "      <th>start_lng</th>\n",
       "      <th>end_lat</th>\n",
       "      <th>end_lng</th>\n",
       "      <th>member_casual</th>\n",
       "    </tr>\n",
       "  </thead>\n",
       "  <tbody>\n",
       "    <tr>\n",
       "      <th>0</th>\n",
       "      <td>455D43BD91D73437</td>\n",
       "      <td>classic_bike</td>\n",
       "      <td>2025-07-05 17:15:08.456</td>\n",
       "      <td>2025-07-05 17:25:47.079</td>\n",
       "      <td>Lincoln Ave &amp; Diversey Pkwy</td>\n",
       "      <td>CHI00285</td>\n",
       "      <td>Lincoln Ave &amp; Addison St</td>\n",
       "      <td>CHI00478</td>\n",
       "      <td>41.932225</td>\n",
       "      <td>-87.658617</td>\n",
       "      <td>41.946176</td>\n",
       "      <td>-87.673308</td>\n",
       "      <td>member</td>\n",
       "    </tr>\n",
       "    <tr>\n",
       "      <th>1</th>\n",
       "      <td>9D4A6B723ECD98CA</td>\n",
       "      <td>classic_bike</td>\n",
       "      <td>2025-07-01 13:57:38.878</td>\n",
       "      <td>2025-07-01 14:06:35.780</td>\n",
       "      <td>Cottage Grove Ave &amp; Oakwood Blvd</td>\n",
       "      <td>CHI00400</td>\n",
       "      <td>Cottage Grove Ave &amp; 47th St</td>\n",
       "      <td>CHI00488</td>\n",
       "      <td>41.822985</td>\n",
       "      <td>-87.607100</td>\n",
       "      <td>41.809855</td>\n",
       "      <td>-87.606755</td>\n",
       "      <td>member</td>\n",
       "    </tr>\n",
       "    <tr>\n",
       "      <th>2</th>\n",
       "      <td>C57044CF523302ED</td>\n",
       "      <td>classic_bike</td>\n",
       "      <td>2025-07-31 16:49:28.142</td>\n",
       "      <td>2025-07-31 17:15:28.999</td>\n",
       "      <td>Theater on the Lake</td>\n",
       "      <td>CHI00420</td>\n",
       "      <td>Winthrop Ave &amp; Lawrence Ave</td>\n",
       "      <td>CHI00391</td>\n",
       "      <td>41.926277</td>\n",
       "      <td>-87.630834</td>\n",
       "      <td>41.968812</td>\n",
       "      <td>-87.657659</td>\n",
       "      <td>member</td>\n",
       "    </tr>\n",
       "    <tr>\n",
       "      <th>3</th>\n",
       "      <td>AFD35552E6685B6E</td>\n",
       "      <td>electric_bike</td>\n",
       "      <td>2025-07-17 09:36:21.058</td>\n",
       "      <td>2025-07-17 09:46:54.706</td>\n",
       "      <td>Pine Grove Ave &amp; Waveland Ave</td>\n",
       "      <td>CHI00354</td>\n",
       "      <td>Winthrop Ave &amp; Lawrence Ave</td>\n",
       "      <td>CHI00391</td>\n",
       "      <td>41.949473</td>\n",
       "      <td>-87.646453</td>\n",
       "      <td>41.968812</td>\n",
       "      <td>-87.657659</td>\n",
       "      <td>member</td>\n",
       "    </tr>\n",
       "    <tr>\n",
       "      <th>4</th>\n",
       "      <td>C0582EBAA6CED519</td>\n",
       "      <td>classic_bike</td>\n",
       "      <td>2025-07-02 18:43:45.213</td>\n",
       "      <td>2025-07-02 18:57:06.687</td>\n",
       "      <td>Theater on the Lake</td>\n",
       "      <td>CHI00420</td>\n",
       "      <td>Sheffield Ave &amp; Wellington Ave</td>\n",
       "      <td>CHI00274</td>\n",
       "      <td>41.926277</td>\n",
       "      <td>-87.630834</td>\n",
       "      <td>41.936253</td>\n",
       "      <td>-87.652662</td>\n",
       "      <td>member</td>\n",
       "    </tr>\n",
       "  </tbody>\n",
       "</table>\n",
       "</div>"
      ],
      "text/plain": [
       "            ride_id  rideable_type               started_at  \\\n",
       "0  455D43BD91D73437   classic_bike  2025-07-05 17:15:08.456   \n",
       "1  9D4A6B723ECD98CA   classic_bike  2025-07-01 13:57:38.878   \n",
       "2  C57044CF523302ED   classic_bike  2025-07-31 16:49:28.142   \n",
       "3  AFD35552E6685B6E  electric_bike  2025-07-17 09:36:21.058   \n",
       "4  C0582EBAA6CED519   classic_bike  2025-07-02 18:43:45.213   \n",
       "\n",
       "                  ended_at                start_station_name start_station_id  \\\n",
       "0  2025-07-05 17:25:47.079       Lincoln Ave & Diversey Pkwy         CHI00285   \n",
       "1  2025-07-01 14:06:35.780  Cottage Grove Ave & Oakwood Blvd         CHI00400   \n",
       "2  2025-07-31 17:15:28.999               Theater on the Lake         CHI00420   \n",
       "3  2025-07-17 09:46:54.706     Pine Grove Ave & Waveland Ave         CHI00354   \n",
       "4  2025-07-02 18:57:06.687               Theater on the Lake         CHI00420   \n",
       "\n",
       "                 end_station_name end_station_id  start_lat  start_lng  \\\n",
       "0        Lincoln Ave & Addison St       CHI00478  41.932225 -87.658617   \n",
       "1     Cottage Grove Ave & 47th St       CHI00488  41.822985 -87.607100   \n",
       "2     Winthrop Ave & Lawrence Ave       CHI00391  41.926277 -87.630834   \n",
       "3     Winthrop Ave & Lawrence Ave       CHI00391  41.949473 -87.646453   \n",
       "4  Sheffield Ave & Wellington Ave       CHI00274  41.926277 -87.630834   \n",
       "\n",
       "     end_lat    end_lng member_casual  \n",
       "0  41.946176 -87.673308        member  \n",
       "1  41.809855 -87.606755        member  \n",
       "2  41.968812 -87.657659        member  \n",
       "3  41.968812 -87.657659        member  \n",
       "4  41.936253 -87.652662        member  "
      ]
     },
     "execution_count": 2,
     "metadata": {},
     "output_type": "execute_result"
    }
   ],
   "source": [
    "df.head()"
   ]
  },
  {
   "cell_type": "code",
   "execution_count": 3,
   "id": "c40c4a4b94d24fb",
   "metadata": {
    "ExecuteTime": {
     "end_time": "2025-09-12T15:51:01.995190Z",
     "start_time": "2025-09-12T15:51:01.988155Z"
    }
   },
   "outputs": [
    {
     "data": {
      "text/plain": [
       "(763432, 13)"
      ]
     },
     "execution_count": 3,
     "metadata": {},
     "output_type": "execute_result"
    }
   ],
   "source": [
    "df.shape"
   ]
  },
  {
   "cell_type": "code",
   "execution_count": 4,
   "id": "b152195c67262859",
   "metadata": {
    "ExecuteTime": {
     "end_time": "2025-09-12T16:12:38.491044Z",
     "start_time": "2025-09-12T16:12:38.318884Z"
    }
   },
   "outputs": [
    {
     "name": "stdout",
     "output_type": "stream",
     "text": [
      "     station_id  difference\n",
      "269    CHI00483         283\n",
      "1098   CHI01745         253\n",
      "131    CHI00345         245\n",
      "1374   CHI02025         233\n",
      "81     CHI00294         228\n"
     ]
    },
    {
     "data": {
      "text/html": [
       "<div>\n",
       "<style scoped>\n",
       "    .dataframe tbody tr th:only-of-type {\n",
       "        vertical-align: middle;\n",
       "    }\n",
       "\n",
       "    .dataframe tbody tr th {\n",
       "        vertical-align: top;\n",
       "    }\n",
       "\n",
       "    .dataframe thead th {\n",
       "        text-align: right;\n",
       "    }\n",
       "</style>\n",
       "<table border=\"1\" class=\"dataframe\">\n",
       "  <thead>\n",
       "    <tr style=\"text-align: right;\">\n",
       "      <th></th>\n",
       "      <th>station_id</th>\n",
       "      <th>difference</th>\n",
       "    </tr>\n",
       "  </thead>\n",
       "  <tbody>\n",
       "    <tr>\n",
       "      <th>310</th>\n",
       "      <td>CHI00525</td>\n",
       "      <td>-219</td>\n",
       "    </tr>\n",
       "    <tr>\n",
       "      <th>457</th>\n",
       "      <td>CHI00674</td>\n",
       "      <td>-233</td>\n",
       "    </tr>\n",
       "    <tr>\n",
       "      <th>1424</th>\n",
       "      <td>CHI02078</td>\n",
       "      <td>-238</td>\n",
       "    </tr>\n",
       "    <tr>\n",
       "      <th>235</th>\n",
       "      <td>CHI00449</td>\n",
       "      <td>-325</td>\n",
       "    </tr>\n",
       "    <tr>\n",
       "      <th>1097</th>\n",
       "      <td>CHI01744</td>\n",
       "      <td>-382</td>\n",
       "    </tr>\n",
       "  </tbody>\n",
       "</table>\n",
       "</div>"
      ],
      "text/plain": [
       "     station_id  difference\n",
       "310    CHI00525        -219\n",
       "457    CHI00674        -233\n",
       "1424   CHI02078        -238\n",
       "235    CHI00449        -325\n",
       "1097   CHI01744        -382"
      ]
     },
     "execution_count": 4,
     "metadata": {},
     "output_type": "execute_result"
    }
   ],
   "source": [
    "tmp = pd.concat([\n",
    "    pd.DataFrame({\"station_id\": df[\"start_station_id\"], \"delta\":  1}),\n",
    "    pd.DataFrame({\"station_id\": df[\"end_station_id\"],   \"delta\": -1}),\n",
    "], ignore_index=True)\n",
    "\n",
    "result = (\n",
    "    tmp.groupby(\"station_id\", as_index=False)[\"delta\"].sum()\n",
    "       .rename(columns={\"delta\": \"difference\"})\n",
    "       .sort_values(\"difference\", ascending=False))\n",
    "print(result.head())\n",
    "result.tail()"
   ]
  },
  {
   "cell_type": "code",
   "execution_count": 6,
   "id": "efaafb4d3c118194",
   "metadata": {},
   "outputs": [
    {
     "name": "stdout",
     "output_type": "stream",
     "text": [
      "🚲 2025-07-05: Meiste Räder hinzugekommen:\n",
      "            date station_id  difference\n",
      "3634  2025-07-05   CHI00216          35\n",
      "3695  2025-07-05   CHI00279          19\n",
      "3930  2025-07-05   CHI00521          19\n",
      "3844  2025-07-05   CHI00432          18\n",
      "4100  2025-07-05   CHI00761          17\n",
      "\n",
      "🚲 {day}: Meiste Räder abgeholt:\n",
      "            date station_id  difference\n",
      "3934  2025-07-05   CHI00525         -66\n",
      "3832  2025-07-05   CHI00420         -49\n",
      "3839  2025-07-05   CHI00427         -24\n",
      "3709  2025-07-05   CHI00295         -23\n",
      "3760  2025-07-05   CHI00347         -22\n"
     ]
    }
   ],
   "source": [
    "# Datumsspalten parsen\n",
    "df[\"started_at\"] = pd.to_datetime(df[\"started_at\"])\n",
    "df[\"ended_at\"] = pd.to_datetime(df[\"ended_at\"])\n",
    "\n",
    "# Tagesweise Bewegungen erfassen\n",
    "tmp = pd.concat([\n",
    "    pd.DataFrame({\n",
    "        \"station_id\": df[\"start_station_id\"],\n",
    "        \"date\": df[\"started_at\"].dt.date,\n",
    "        \"delta\": 1\n",
    "    }),\n",
    "    pd.DataFrame({\n",
    "        \"station_id\": df[\"end_station_id\"],\n",
    "        \"date\": df[\"ended_at\"].dt.date,\n",
    "        \"delta\": -1\n",
    "    })\n",
    "], ignore_index=True)\n",
    "\n",
    "# Gruppieren nach Tag und Station\n",
    "daily_balance = (\n",
    "    tmp.groupby([\"date\", \"station_id\"], as_index=False)[\"delta\"].sum()\n",
    "       .rename(columns={\"delta\": \"difference\"})\n",
    ")\n",
    "\n",
    "# Beispiel: Tag auswählen\n",
    "day = pd.to_datetime(\"2025-07-05\").date()\n",
    "\n",
    "# Stationsbewegungen dieses Tages\n",
    "day_data = daily_balance[daily_balance[\"date\"] == day]\n",
    "\n",
    "# Top 5 mit meisten Abgängen und Zugängen\n",
    "most_added = day_data.sort_values(\"difference\", ascending=False).head(5)\n",
    "most_removed = day_data.sort_values(\"difference\", ascending=True).head(5)\n",
    "\n",
    "print(f\"🚲 {day}: Meiste Räder hinzugekommen:\")\n",
    "print(most_added)\n",
    "print(\"\\n🚲 {day}: Meiste Räder abgeholt:\")\n",
    "print(most_removed)\n"
   ]
  }
 ],
 "metadata": {
  "kernelspec": {
   "display_name": "base",
   "language": "python",
   "name": "python3"
  },
  "language_info": {
   "codemirror_mode": {
    "name": "ipython",
    "version": 3
   },
   "file_extension": ".py",
   "mimetype": "text/x-python",
   "name": "python",
   "nbconvert_exporter": "python",
   "pygments_lexer": "ipython3",
   "version": "3.13.5"
  }
 },
 "nbformat": 4,
 "nbformat_minor": 5
}
